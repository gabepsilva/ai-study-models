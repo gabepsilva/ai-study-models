{
 "cells": [
  {
   "cell_type": "code",
   "execution_count": 1,
   "metadata": {},
   "outputs": [],
   "source": [
    "import pandas as pd\n",
    "data = pd.read_csv('/home/gabriel/Desktop/Machine Learning A-Z Template Folder/Part 2 - Regression/Section 4 - Simple Linear Regression/Salary_Data.csv') \n",
    "\n",
    "X = data.iloc[:, :-1].values\n",
    "y = data.iloc[:, 1].values"
   ]
  },
  {
   "cell_type": "code",
   "execution_count": null,
   "metadata": {},
   "outputs": [],
   "source": []
  },
  {
   "cell_type": "markdown",
   "metadata": {},
   "source": [
    "#### Simple linear regression in sckitlearn"
   ]
  },
  {
   "cell_type": "code",
   "execution_count": 2,
   "metadata": {},
   "outputs": [],
   "source": [
    "from sklearn.model_selection import train_test_split\n",
    "X_train, X_test, y_train, y_test = train_test_split(X, y, test_size=0.3, random_state=1)"
   ]
  },
  {
   "cell_type": "code",
   "execution_count": 3,
   "metadata": {},
   "outputs": [],
   "source": [
    "from sklearn.linear_model import LinearRegression\n",
    "regressor = LinearRegression()\n",
    "regressor.fit(X_train, y_train)\n",
    "y_pred = regressor.predict(X_test)\n",
    "\n",
    "X_single_data = [[4.6]]\n",
    "y_single_pred = regressor.predict(X_single_data)"
   ]
  },
  {
   "cell_type": "code",
   "execution_count": 4,
   "metadata": {},
   "outputs": [
    {
     "name": "stdout",
     "output_type": "stream",
     "text": [
      "Train score: 0.960775692121653\n",
      "Test  score: 0.9248580247217076\n"
     ]
    }
   ],
   "source": [
    "print(f'Train score: {regressor.score(X_train, y_train)}')\n",
    "print(f'Test  score: {regressor.score(X_test, y_test)}')"
   ]
  },
  {
   "cell_type": "code",
   "execution_count": 6,
   "metadata": {},
   "outputs": [
    {
     "data": {
      "text/plain": [
       "<matplotlib.legend.Legend at 0x7f3c94a35860>"
      ]
     },
     "execution_count": 6,
     "metadata": {},
     "output_type": "execute_result"
    },
    {
     "data": {
      "image/png": "[encoded data removed]",
      "text/plain": [
       "<Figure size 432x288 with 1 Axes>"
      ]
     },
     "metadata": {
      "needs_background": "light"
     },
     "output_type": "display_data"
    }
   ],
   "source": [
    "import matplotlib.pyplot as plt\n",
    "\n",
    "splt = plt.subplot()\n",
    "splt.plot(X_test, y_pred, color='blue', alpha=0.5, label='Test data(trend)')\n",
    "splt.scatter(X_test, y_test, color='green', alpha=0.5, label='Test data')\n",
    "splt.scatter(X_train, y_train, color='red', alpha=0.5, label='Train data')\n",
    "splt.scatter(X_single_data, y_single_pred, color='black', label='Single prediction')\n",
    "splt.legend(loc='upper left')\n"
   ]
  },
  {
   "cell_type": "markdown",
   "metadata": {},
   "source": [
    "### Simple linear regression in tensorflow"
   ]
  },
  {
   "cell_type": "markdown",
   "metadata": {},
   "source": [
    "Data type review:"
   ]
  },
  {
   "cell_type": "code",
   "execution_count": 7,
   "metadata": {},
   "outputs": [],
   "source": [
    "import tensorflow as tf"
   ]
  },
  {
   "cell_type": "code",
   "execution_count": null,
   "metadata": {},
   "outputs": [],
   "source": [
    "f_cols = [tf.feature_column.numeric_column(key='X', shape=[1])]\n",
    "estimator = tf.estimator.LinearRegressor(feature_columns=f_cols)"
   ]
  },
  {
   "cell_type": "code",
   "execution_count": 9,
   "metadata": {},
   "outputs": [],
   "source": [
    "train_input_fn = tf.estimator.inputs.numpy_input_fn(x={'X': X_train}, y=y_train,\n",
    "                                                      shuffle=False)\n",
    "\n",
    "test_input_fn = tf.estimator.inputs.numpy_input_fn(x={'X': X_test}, y=y_test,\n",
    "                                                     shuffle=False)"
   ]
  },
  {
   "cell_type": "code",
   "execution_count": 15,
   "metadata": {},
   "outputs": [
    {
     "name": "stdout",
     "output_type": "stream",
     "text": [
      "INFO:tensorflow:Not using Distribute Coordinator.\n",
      "INFO:tensorflow:Running training and evaluation locally (non-distributed).\n",
      "INFO:tensorflow:Start train and evaluate loop. The evaluate will happen after every checkpoint. Checkpoint frequency is determined based on RunConfig arguments: save_checkpoints_steps None or save_checkpoints_secs 600.\n",
      "INFO:tensorflow:Calling model_fn.\n",
      "INFO:tensorflow:Done calling model_fn.\n",
      "INFO:tensorflow:Create CheckpointSaverHook.\n",
      "INFO:tensorflow:Graph was finalized.\n",
      "INFO:tensorflow:Restoring parameters from /tmp/tmpmvv_z7ow/model.ckpt-1\n",
      "INFO:tensorflow:Running local_init_op.\n",
      "INFO:tensorflow:Done running local_init_op.\n",
      "INFO:tensorflow:Saving checkpoints for 1 into /tmp/tmpmvv_z7ow/model.ckpt.\n",
      "INFO:tensorflow:loss = 126000150000.0, step = 2\n",
      "INFO:tensorflow:Saving checkpoints for 2 into /tmp/tmpmvv_z7ow/model.ckpt.\n",
      "INFO:tensorflow:Calling model_fn.\n",
      "INFO:tensorflow:Done calling model_fn.\n",
      "INFO:tensorflow:Starting evaluation at 2018-11-22-13:26:26\n",
      "INFO:tensorflow:Graph was finalized.\n",
      "INFO:tensorflow:Restoring parameters from /tmp/tmpmvv_z7ow/model.ckpt-2\n",
      "INFO:tensorflow:Running local_init_op.\n",
      "INFO:tensorflow:Done running local_init_op.\n",
      "INFO:tensorflow:Finished evaluation at 2018-11-22-13:26:26\n",
      "INFO:tensorflow:Saving dict for global step 2: average_loss = 7675582000.0, global_step = 2, label/mean = 84588.11, loss = 69080240000.0, prediction/mean = 2.3823538\n",
      "INFO:tensorflow:Saving 'checkpoint_path' summary for global step 2: /tmp/tmpmvv_z7ow/model.ckpt-2\n",
      "INFO:tensorflow:Loss for final step: 126000150000.0.\n"
     ]
    },
    {
     "data": {
      "text/plain": [
       "({'average_loss': 7675582000.0,\n",
       "  'label/mean': 84588.11,\n",
       "  'loss': 69080240000.0,\n",
       "  'prediction/mean': 2.3823538,\n",
       "  'global_step': 2},\n",
       " [])"
      ]
     },
     "execution_count": 15,
     "metadata": {},
     "output_type": "execute_result"
    }
   ],
   "source": [
    "train_spec = tf.estimator.TrainSpec(input_fn=train_input_fn)\n",
    "eval_spec = tf.estimator.EvalSpec(input_fn=test_input_fn)\n",
    "\n",
    "tf.estimator.train_and_evaluate(estimator, train_spec, eval_spec)\n"
   ]
  },
  {
   "cell_type": "code",
   "execution_count": 14,
   "metadata": {},
   "outputs": [],
   "source": [
    "pred = estimator.predict(input_fn=train_input_fn)"
   ]
  },
  {
   "cell_type": "code",
   "execution_count": 12,
   "metadata": {},
   "outputs": [
    {
     "name": "stdout",
     "output_type": "stream",
     "text": [
      "INFO:tensorflow:Calling model_fn.\n",
      "INFO:tensorflow:Done calling model_fn.\n",
      "INFO:tensorflow:Graph was finalized.\n",
      "INFO:tensorflow:Restoring parameters from /tmp/tmpmvv_z7ow/model.ckpt-1\n",
      "INFO:tensorflow:Running local_init_op.\n",
      "INFO:tensorflow:Done running local_init_op.\n"
     ]
    },
    {
     "data": {
      "text/plain": [
       "[{'predictions': array([1.7800001], dtype=float32)},\n",
       " {'predictions': array([1.84], dtype=float32)},\n",
       " {'predictions': array([0.64000005], dtype=float32)},\n",
       " {'predictions': array([0.5], dtype=float32)},\n",
       " {'predictions': array([2.], dtype=float32)},\n",
       " {'predictions': array([0.8], dtype=float32)},\n",
       " {'predictions': array([1.3800001], dtype=float32)},\n",
       " {'predictions': array([1.02], dtype=float32)},\n",
       " {'predictions': array([0.84000003], dtype=float32)},\n",
       " {'predictions': array([2.1200001], dtype=float32)},\n",
       " {'predictions': array([0.45999998], dtype=float32)},\n",
       " {'predictions': array([1.22], dtype=float32)},\n",
       " {'predictions': array([0.42000002], dtype=float32)},\n",
       " {'predictions': array([1.1800001], dtype=float32)},\n",
       " {'predictions': array([2.3000002], dtype=float32)},\n",
       " {'predictions': array([2.2600002], dtype=float32)},\n",
       " {'predictions': array([0.94], dtype=float32)},\n",
       " {'predictions': array([0.84000003], dtype=float32)},\n",
       " {'predictions': array([1.], dtype=float32)},\n",
       " {'predictions': array([1.], dtype=float32)},\n",
       " {'predictions': array([0.78000003], dtype=float32)}]"
      ]
     },
     "execution_count": 12,
     "metadata": {},
     "output_type": "execute_result"
    }
   ],
   "source": [
    "list(pred)"
   ]
  },
  {
   "cell_type": "code",
   "execution_count": null,
   "metadata": {},
   "outputs": [],
   "source": [
    "test_metrics = estimator.evaluate(input_fn=test_input_func, steps=1000)"
   ]
  },
  {
   "cell_type": "code",
   "execution_count": null,
   "metadata": {},
   "outputs": [],
   "source": [
    "print('training data metrics')\n",
    "print(train_metrics)"
   ]
  },
  {
   "cell_type": "code",
   "execution_count": null,
   "metadata": {},
   "outputs": [],
   "source": [
    "print('test data metrics')\n",
    "print(test_metrics)"
   ]
  },
  {
   "cell_type": "code",
   "execution_count": null,
   "metadata": {},
   "outputs": [],
   "source": [
    "new_data = [[10]]\n",
    "inpu_fn_pred = tf.estimator.inputs.numpy_input_fn({'X': new_data}, shuffle=False)"
   ]
  },
  {
   "cell_type": "code",
   "execution_count": null,
   "metadata": {},
   "outputs": [],
   "source": [
    "pred = estimator.predict(input_fn=inpu_fn_pred)"
   ]
  },
  {
   "cell_type": "code",
   "execution_count": null,
   "metadata": {},
   "outputs": [],
   "source": [
    "x for x in pred"
   ]
  },
  {
   "cell_type": "code",
   "execution_count": null,
   "metadata": {},
   "outputs": [],
   "source": []
  }
 ],
 "metadata": {
  "kernelspec": {
   "display_name": "Python 3",
   "language": "python",
   "name": "python3"
  },
  "language_info": {
   "codemirror_mode": {
    "name": "ipython",
    "version": 3
   },
   "file_extension": ".py",
   "mimetype": "text/x-python",
   "name": "python",
   "nbconvert_exporter": "python",
   "pygments_lexer": "ipython3",
   "version": "3.6.6"
  }
 },
 "nbformat": 4,
 "nbformat_minor": 2
}
